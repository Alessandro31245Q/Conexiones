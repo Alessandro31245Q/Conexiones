{
 "cells": [
  {
   "cell_type": "markdown",
   "id": "6dc83714",
   "metadata": {},
   "source": [
    "# Soluccion de Problema de Busqueda \"Conexiones de Aeropuertos\""
   ]
  },
  {
   "cell_type": "markdown",
   "id": "04a41df3",
   "metadata": {},
   "source": [
    "### Enunciado\n",
    "Se te proporciona una lista de aeropuertos y una lista de conexiones\n",
    "de vuelos de una sola dirección entre aeropuertos.\n",
    "Cada aeropuerto está representado por un código de tres letras.\n",
    "También se te proporciona un aeropuerto de inicio específico que deseas\n",
    "utilizar como centro para conectar con otros aeropuertos.\n",
    "Tu objetivo es encontrar el número mínimo de conexiones de vuelos\n",
    "adicionales necesarias para asegurarte de que se pueda llegar a todos los\n",
    "aeropuertos desde el aeropuerto de inicio, considerando que los pasajeros\n",
    "están dispuestos a tomar múltiples vuelos de conexión. "
   ]
  },
  {
   "cell_type": "markdown",
   "id": "de37c53b",
   "metadata": {},
   "source": [
    "### Solucion"
   ]
  },
  {
   "cell_type": "markdown",
   "id": "d4385c72",
   "metadata": {},
   "source": [
    "#### Paso 1:\n",
    "\n",
    "Importamos la libreria networkx, que nos ayudara para el trabajo con grafos"
   ]
  },
  {
   "cell_type": "code",
   "execution_count": 11,
   "id": "a7d676d3",
   "metadata": {},
   "outputs": [],
   "source": [
    "import networkx as nx"
   ]
  },
  {
   "cell_type": "markdown",
   "id": "0267050e",
   "metadata": {},
   "source": [
    "#### Paso 2:\n",
    "\n",
    "Hemos creado una función denominada \"min_conexiones_vuelos()\" que recibirá como argumentos una lista de aeropuertos, un conjunto de conexiones de vuelos y el aeropuerto de inicio. Esta función tiene como propósito determinar la cantidad mínima de conexiones de vuelos adicionales requeridas para alcanzar todos los aeropuertos a partir del punto de partida especificado.\n",
    "\n",
    "Encuentra el número mínimo de conexiones de vuelos adicionales necesarias para llegar\n",
    "    a todos los aeropuertos desde un aeropuerto de inicio dado.\n",
    "\n",
    "    Parámetros:\n",
    "        aeropuertos (list): Una lista de códigos de tres letras que representan los aeropuertos.\n",
    "        conexiones (list): Una lista de tuplas que representan las conexiones de vuelos de una sola dirección\n",
    "                           entre aeropuertos. Cada tupla contiene dos códigos de aeropuerto (origen y destino).\n",
    "        aeropuerto_inicio (str): El código del aeropuerto desde el cual se desea comenzar.\n",
    "\n",
    "    Devolución:\n",
    "        int: El número mínimo de conexiones de vuelos adicionales necesarias."
   ]
  },
  {
   "cell_type": "code",
   "execution_count": 21,
   "id": "8f489b70",
   "metadata": {},
   "outputs": [],
   "source": [
    "def min_conexiones_vuelos(aeropuertos, conexiones, aeropuerto_inicio):\n",
    "    \n",
    "    G = nx.DiGraph() #Creacion de Grafo dirigido\n",
    "    \n",
    "    G.add_nodes_from(aeropuertos) #Agregar nodos al grafo\n",
    "    \n",
    "    #Agregar conexiones de vuelos como arcos en el grafo\n",
    "    for conexion in conexiones:\n",
    "        origen, destino = conexion\n",
    "        G.add_edge(origen, destino)\n",
    "    \n",
    "    #Utilizar BFS para encontrar el camino más corto desde el aeropuerto de inicio a todos los demás aeropuertos\n",
    "    shortest_paths = nx.single_source_shortest_path_length(G, source=aeropuerto_inicio) \n",
    "    \n",
    "    min_conexiones = max(shortest_paths.values()) #Valor maximo de shortest para hallar el valor minimo de conexion\n",
    "    \n",
    "    return min_conexiones #Retorna el número mínimo de conexiones de vuelos adicionales necesarias\n",
    "    "
   ]
  },
  {
   "cell_type": "markdown",
   "id": "f82af2a0",
   "metadata": {},
   "source": [
    "#### Paso 3:\n",
    "\n",
    "Creamos una lista llamada aeropuertos_colombia que contendrá información sobre aeropuertos en Colombia. Cada aeropuerto está representado como un diccionario que contiene dos elementos: el código de aeropuerto y el nombre real del aeropuerto."
   ]
  },
  {
   "cell_type": "code",
   "execution_count": 22,
   "id": "37a067c5",
   "metadata": {},
   "outputs": [],
   "source": [
    "aeropuertos_colombia = [\n",
    "    {\"codigo\": \"BOG\", \"nombre\": \"Aeropuerto Internacional El Dorado - Bogotá\"},\n",
    "    {\"codigo\": \"MDE\", \"nombre\": \"Aeropuerto Internacional José María Córdova - Medellín\"},\n",
    "    {\"codigo\": \"CTG\", \"nombre\": \"Aeropuerto Internacional Rafael Núñez - Cartagena\"},\n",
    "    {\"codigo\": \"CLO\", \"nombre\": \"Aeropuerto Internacional Alfonso Bonilla Aragón - Cali\"},\n",
    "    {\"codigo\": \"SMR\", \"nombre\": \"Aeropuerto Internacional Simón Bolívar - Santa Marta\"},\n",
    "    {\"codigo\": \"ADZ\", \"nombre\": \"Aeropuerto Internacional Gustavo Rojas Pinilla - San Andrés\"},\n",
    "    {\"codigo\": \"BAQ\", \"nombre\": \"Aeropuerto Internacional Ernesto Cortissoz - Barranquilla\"},\n",
    "    {\"codigo\": \"CUC\", \"nombre\": \"Aeropuerto Internacional Camilo Daza - Cúcuta\"},\n",
    "    {\"codigo\": \"PEI\", \"nombre\": \"Aeropuerto Internacional Matecaña - Pereira\"},\n",
    "    {\"codigo\": \"VVC\", \"nombre\": \"Aeropuerto Internacional Vanguardia - Villavicencio\"}\n",
    "]\n"
   ]
  },
  {
   "cell_type": "markdown",
   "id": "7e9a2b06",
   "metadata": {},
   "source": [
    "#### Paso 4:\n",
    "\n",
    "Establecemos otra lista llamada conexiones_colombia que representa conexiones de vuelos hipotéticas entre aeropuertos en Colombia."
   ]
  },
  {
   "cell_type": "code",
   "execution_count": 23,
   "id": "b4e9ea8d",
   "metadata": {},
   "outputs": [],
   "source": [
    "conexiones_colombia = [\n",
    "    (\"BOG\", \"MDE\"),\n",
    "    (\"BOG\", \"CTG\"),\n",
    "    (\"MDE\", \"CLO\"),\n",
    "    (\"CLO\", \"BOG\"),\n",
    "    (\"BOG\", \"SMR\"),\n",
    "    (\"SMR\", \"ADZ\"),\n",
    "    (\"BOG\", \"BAQ\"),\n",
    "    (\"BAQ\", \"CUC\"),\n",
    "    (\"CUC\", \"PEI\"),\n",
    "    (\"PEI\", \"VVC\")\n",
    "]"
   ]
  },
  {
   "cell_type": "markdown",
   "id": "965994ef",
   "metadata": {},
   "source": [
    "#### Paso 5:\n",
    "\n",
    "Elegimos un aeropuerto de inicio (en este caso, \"BOG\" para Bogotá) y calculamos el número mínimo de conexiones de vuelos adicionales necesarias utilizando la función min_conexiones_vuelos."
   ]
  },
  {
   "cell_type": "code",
   "execution_count": 40,
   "id": "4f12d15f",
   "metadata": {},
   "outputs": [
    {
     "name": "stdout",
     "output_type": "stream",
     "text": [
      "Codigo de Aeropuerto de inicio: BOG\n",
      "Nombre del Aeropuerto de inicio: Aeropuerto Internacional El Dorado - Bogotá\n",
      "Número mínimo de conexiones de vuelos adicionales necesarias: 4\n"
     ]
    }
   ],
   "source": [
    "aeropuerto_inicio = \"BOG\"\n",
    "print(f\"Codigo de Aeropuerto de inicio: {aeropuerto_inicio}\")\n",
    "print(\"Nombre del Aeropuerto de inicio:\", next(aeropuerto['nombre'] for aeropuerto in aeropuertos_colombia if aeropuerto['codigo'] == aeropuerto_inicio))\n",
    "print(f\"Número mínimo de conexiones de vuelos adicionales necesarias: {numero_minimo_conexiones}\")"
   ]
  },
  {
   "cell_type": "code",
   "execution_count": null,
   "id": "82787c12",
   "metadata": {},
   "outputs": [],
   "source": []
  }
 ],
 "metadata": {
  "kernelspec": {
   "display_name": "Python 3 (ipykernel)",
   "language": "python",
   "name": "python3"
  },
  "language_info": {
   "codemirror_mode": {
    "name": "ipython",
    "version": 3
   },
   "file_extension": ".py",
   "mimetype": "text/x-python",
   "name": "python",
   "nbconvert_exporter": "python",
   "pygments_lexer": "ipython3",
   "version": "3.9.13"
  }
 },
 "nbformat": 4,
 "nbformat_minor": 5
}
